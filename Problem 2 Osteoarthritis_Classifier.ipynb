{
 "cells": [
  {
   "cell_type": "markdown",
   "id": "c605323a",
   "metadata": {},
   "source": [
    "# Problem Statement 2\n",
    "\n",
    "An orthopaedist is a medical doctor specializing in diagnosing and treating disorders related to the skeletal system. Part of their job is to distinguish between a healthy person and a person with Osteoarthritis by looking at their knee X-ray images.\n",
    "\n",
    "**Osteoarthritis :**  Osteoarthritis commonly known as wear-and-tear arthritis, is a condition in which the natural cushioning between joints — cartilage — wears away. When this happens, the bones of the joints rub more closely against one another with less of the shock-absorbing benefits of cartilage. The rubbing results in pain, swelling, stiffness, decreased ability to move, and, sometimes, the formation of bone spurs.\n",
    "\n",
    "\n",
    "![alt text](https://lh5.googleusercontent.com/rYigiybgSG_wKaBc25YGO-wa8BS7h4IrP-aYu3zKEWJBQ4-fX-5gIq7qZiQ5CCaO0yD2Ea93S4n7duv_C01wboanM-SiPZjkJdlsTNRBSi_1ybijBq-CevrJf_XdHFBj-e8Gx0DM)\n",
    "<center><b>Healthy Knee Joint</b></center>\n",
    "\n",
    "\n",
    "![alt text](https://lh5.googleusercontent.com/uWkeoxyr1CsTwRH2Hkwruwe9-5JtNImXB7206usWlPICKpETxGQ1Ok_U8gjqz_oN5azb9Yzjxj9jYmlP0Fhxq8lt53TEL_-KtJE7l8In1kjDajZkLkIfPTC8x4Y7K_ztuqCyTShh)\n",
    "<center><b>Osteoarthritis Condition</b></center>\n",
    "\n",
    "\n",
    "\n",
    "\n",
    "I have created a deep learning model that can detect if osteoarthritis is present or not in a given knee X-ray image.\n",
    "\n",
    "\n",
    "### Diractory Strurcture\n",
    "\n",
    "- Dataset \n",
    "\n",
    "  The Dataset contains three folders \n",
    "\n",
    "  - Test (845 images)\n",
    "  - Train (2350 images)\n",
    "  - Valid (641 images)\n",
    "\n",
    "\n",
    "- IPython Notebook"
   ]
  },
  {
   "cell_type": "code",
   "execution_count": 1,
   "id": "75d37e51",
   "metadata": {},
   "outputs": [],
   "source": [
    "# Importing all necessary libraries\n",
    "from glob import glob\n",
    "import os\n",
    "import random\n",
    "import math\n",
    "\n",
    "import tensorflow as tf\n",
    "from tensorflow import keras\n",
    "from tensorflow.keras.layers import Input, Conv2D, Dense, Flatten, Dropout\n",
    "from tensorflow.keras.layers import GlobalMaxPooling2D, MaxPooling2D\n",
    "from tensorflow.keras.layers import BatchNormalization\n",
    "from tensorflow.keras.models import Model\n",
    "from tensorflow.keras.models import load_model, Model, Sequential"
   ]
  },
  {
   "cell_type": "code",
   "execution_count": 2,
   "id": "efd14582",
   "metadata": {},
   "outputs": [],
   "source": [
    "IMG_height = 224\n",
    "IMG_width = 224\n",
    "\n",
    "# Sprcifying directory path\n",
    "train_path = './Dataset/train'\n",
    "val_path = './Dataset/valid'\n",
    "test_path = './Dataset/test'"
   ]
  },
  {
   "cell_type": "code",
   "execution_count": 3,
   "id": "43f2e70b",
   "metadata": {},
   "outputs": [
    {
     "name": "stdout",
     "output_type": "stream",
     "text": [
      "Classes :  ['Normal', 'Osteoarthritis']\n",
      "Number of training images : 2350\n",
      "Number of validation images : 641\n"
     ]
    }
   ],
   "source": [
    "# here name of classes == name of dirctories\n",
    "classes = os.listdir(train_path)\n",
    "\n",
    "# Counting total number of images for training and valdation\n",
    "num_train = len(glob(train_path + '/*/*'))\n",
    "num_val = len(glob(val_path + '/*/*'))\n",
    "print('Classes : ', classes)\n",
    "print(f'Number of training images : {num_train}\\nNumber of validation images : {num_val}')"
   ]
  },
  {
   "cell_type": "code",
   "execution_count": 4,
   "id": "2b859f49",
   "metadata": {},
   "outputs": [],
   "source": [
    "# Loading images from image paths\n",
    "def parse_image(file_path):\n",
    "    image = tf.io.read_file(file_path)\n",
    "    image = tf.image.decode_png(image, channels=1)\n",
    "    image = tf.image.resize(image, [IMG_height, IMG_width])\n",
    "    image = tf.cast(image, tf.float32) / 255.0\n",
    "    return image"
   ]
  },
  {
   "cell_type": "code",
   "execution_count": 5,
   "id": "62631aff",
   "metadata": {},
   "outputs": [],
   "source": [
    "def make_dataset(path, batch_size):\n",
    "    \n",
    "    # Collecting all filepath in a directory\n",
    "    filenames = glob(path + '/*/*')\n",
    "    # Shuffling the dataset\n",
    "    random.shuffle(filenames)\n",
    "    # Extraction labels from fil paths(as numbers Normal:0, Osteoarthritis:1)\n",
    "    labels = [classes.index(name.split(os.path.sep)[-2]) for name in filenames]\n",
    "\n",
    "    # Creating instance of tf.data.dataset from filenames\n",
    "    filenames_ds = tf.data.Dataset.from_tensor_slices(filenames)\n",
    "    # loading files\n",
    "    images_ds = filenames_ds.map(parse_image, num_parallel_calls=tf.data.experimental.AUTOTUNE)\n",
    "    labels_ds = tf.data.Dataset.from_tensor_slices(labels)\n",
    "    images_ds = tf.data.Dataset.zip((images_ds, labels_ds))\n",
    "    images_ds = images_ds.shuffle(buffer_size=100)\n",
    "    images_ds = images_ds.batch(batch_size)\n",
    "    images_ds = images_ds.prefetch(buffer_size=tf.data.experimental.AUTOTUNE)\n",
    "\n",
    "    return images_ds"
   ]
  },
  {
   "cell_type": "code",
   "execution_count": 6,
   "id": "e056a1e3",
   "metadata": {},
   "outputs": [
    {
     "name": "stdout",
     "output_type": "stream",
     "text": [
      "Wall time: 1.11 s\n"
     ]
    }
   ],
   "source": [
    "%%time\n",
    "ds_train = make_dataset(train_path, 32)\n",
    "ds_val = make_dataset(train_path, 32)\n",
    "ds_test = make_dataset(train_path, 128)"
   ]
  },
  {
   "cell_type": "code",
   "execution_count": 7,
   "id": "b2b90998",
   "metadata": {},
   "outputs": [],
   "source": [
    "callbacks = [\n",
    "    keras.callbacks.EarlyStopping(\n",
    "        # Stop training when `val_loss` is no longer improving\n",
    "        monitor=\"val_loss\",\n",
    "        # \"no longer improving\" being defined as \"no better than 1e-2 less\"\n",
    "        min_delta=1e-2,\n",
    "        # \"no longer improving\" being further defined as \"for at least 2 epochs\"\n",
    "        patience=5,\n",
    "        verbose=1,\n",
    "    )\n",
    "]"
   ]
  },
  {
   "cell_type": "code",
   "execution_count": 8,
   "id": "1764c885",
   "metadata": {},
   "outputs": [],
   "source": [
    "# defining model\n",
    "def build_model_A():\n",
    "    batch_size = 32\n",
    "    num_classes = 2\n",
    "\n",
    "    i = Input(shape=(224, 224, 1))\n",
    "    x = Conv2D(32, (3, 3), activation='relu', padding='same')(i)\n",
    "    x = BatchNormalization()(x)\n",
    "    x = Conv2D(32, (3, 3), activation='relu', padding='same')(x)\n",
    "    x = BatchNormalization()(x)\n",
    "    x = MaxPooling2D((2, 2))(x)\n",
    "\n",
    "    x = Conv2D(64, (3, 3), activation='relu', padding='same')(x)\n",
    "    x = BatchNormalization()(x)\n",
    "    x = Conv2D(64, (3, 3), activation='relu', padding='same')(x)\n",
    "    x = BatchNormalization()(x)\n",
    "    x = MaxPooling2D((2, 2))(x)\n",
    "\n",
    "    x = Conv2D(128, (3, 3), activation='relu', padding='same')(x)\n",
    "    x = BatchNormalization()(x)\n",
    "    x = Conv2D(128, (3, 3), activation='relu', padding='same')(x)\n",
    "    x = BatchNormalization()(x)\n",
    "    x = MaxPooling2D((2, 2))(x)\n",
    "\n",
    "    x = Flatten()(x)\n",
    "    x = Dropout(0.2)(x)\n",
    "\n",
    "    # Hidden layer\n",
    "    x = Dense(512, activation='relu')(x)\n",
    "    x = Dropout(0.2)(x)\n",
    "\n",
    "    # last hidden layer i.e.. output layer\n",
    "    x = Dense(num_classes, activation='softmax')(x)\n",
    "\n",
    "    model = Model(i, x)\n",
    "\n",
    "    # model description\n",
    "    model.summary()\n",
    "\n",
    "    model.compile(optimizer=keras.optimizers.Adam(3e-4),\n",
    "                  loss='sparse_categorical_crossentropy',\n",
    "                  metrics=['accuracy'])\n",
    "\n",
    "    return model"
   ]
  },
  {
   "cell_type": "code",
   "execution_count": 9,
   "id": "d8c72888",
   "metadata": {},
   "outputs": [
    {
     "name": "stdout",
     "output_type": "stream",
     "text": [
      "Model: \"model\"\n",
      "_________________________________________________________________\n",
      " Layer (type)                Output Shape              Param #   \n",
      "=================================================================\n",
      " input_1 (InputLayer)        [(None, 224, 224, 1)]     0         \n",
      "                                                                 \n",
      " conv2d (Conv2D)             (None, 224, 224, 32)      320       \n",
      "                                                                 \n",
      " batch_normalization (BatchN  (None, 224, 224, 32)     128       \n",
      " ormalization)                                                   \n",
      "                                                                 \n",
      " conv2d_1 (Conv2D)           (None, 224, 224, 32)      9248      \n",
      "                                                                 \n",
      " batch_normalization_1 (Batc  (None, 224, 224, 32)     128       \n",
      " hNormalization)                                                 \n",
      "                                                                 \n",
      " max_pooling2d (MaxPooling2D  (None, 112, 112, 32)     0         \n",
      " )                                                               \n",
      "                                                                 \n",
      " conv2d_2 (Conv2D)           (None, 112, 112, 64)      18496     \n",
      "                                                                 \n",
      " batch_normalization_2 (Batc  (None, 112, 112, 64)     256       \n",
      " hNormalization)                                                 \n",
      "                                                                 \n",
      " conv2d_3 (Conv2D)           (None, 112, 112, 64)      36928     \n",
      "                                                                 \n",
      " batch_normalization_3 (Batc  (None, 112, 112, 64)     256       \n",
      " hNormalization)                                                 \n",
      "                                                                 \n",
      " max_pooling2d_1 (MaxPooling  (None, 56, 56, 64)       0         \n",
      " 2D)                                                             \n",
      "                                                                 \n",
      " conv2d_4 (Conv2D)           (None, 56, 56, 128)       73856     \n",
      "                                                                 \n",
      " batch_normalization_4 (Batc  (None, 56, 56, 128)      512       \n",
      " hNormalization)                                                 \n",
      "                                                                 \n",
      " conv2d_5 (Conv2D)           (None, 56, 56, 128)       147584    \n",
      "                                                                 \n",
      " batch_normalization_5 (Batc  (None, 56, 56, 128)      512       \n",
      " hNormalization)                                                 \n",
      "                                                                 \n",
      " max_pooling2d_2 (MaxPooling  (None, 28, 28, 128)      0         \n",
      " 2D)                                                             \n",
      "                                                                 \n",
      " flatten (Flatten)           (None, 100352)            0         \n",
      "                                                                 \n",
      " dropout (Dropout)           (None, 100352)            0         \n",
      "                                                                 \n",
      " dense (Dense)               (None, 512)               51380736  \n",
      "                                                                 \n",
      " dropout_1 (Dropout)         (None, 512)               0         \n",
      "                                                                 \n",
      " dense_1 (Dense)             (None, 2)                 1026      \n",
      "                                                                 \n",
      "=================================================================\n",
      "Total params: 51,669,986\n",
      "Trainable params: 51,669,090\n",
      "Non-trainable params: 896\n",
      "_________________________________________________________________\n",
      "Model: \"model\"\n",
      "_________________________________________________________________\n",
      " Layer (type)                Output Shape              Param #   \n",
      "=================================================================\n",
      " input_1 (InputLayer)        [(None, 224, 224, 1)]     0         \n",
      "                                                                 \n",
      " conv2d (Conv2D)             (None, 224, 224, 32)      320       \n",
      "                                                                 \n",
      " batch_normalization (BatchN  (None, 224, 224, 32)     128       \n",
      " ormalization)                                                   \n",
      "                                                                 \n",
      " conv2d_1 (Conv2D)           (None, 224, 224, 32)      9248      \n",
      "                                                                 \n",
      " batch_normalization_1 (Batc  (None, 224, 224, 32)     128       \n",
      " hNormalization)                                                 \n",
      "                                                                 \n",
      " max_pooling2d (MaxPooling2D  (None, 112, 112, 32)     0         \n",
      " )                                                               \n",
      "                                                                 \n",
      " conv2d_2 (Conv2D)           (None, 112, 112, 64)      18496     \n",
      "                                                                 \n",
      " batch_normalization_2 (Batc  (None, 112, 112, 64)     256       \n",
      " hNormalization)                                                 \n",
      "                                                                 \n",
      " conv2d_3 (Conv2D)           (None, 112, 112, 64)      36928     \n",
      "                                                                 \n",
      " batch_normalization_3 (Batc  (None, 112, 112, 64)     256       \n",
      " hNormalization)                                                 \n",
      "                                                                 \n",
      " max_pooling2d_1 (MaxPooling  (None, 56, 56, 64)       0         \n",
      " 2D)                                                             \n",
      "                                                                 \n",
      " conv2d_4 (Conv2D)           (None, 56, 56, 128)       73856     \n",
      "                                                                 \n",
      " batch_normalization_4 (Batc  (None, 56, 56, 128)      512       \n",
      " hNormalization)                                                 \n",
      "                                                                 \n",
      " conv2d_5 (Conv2D)           (None, 56, 56, 128)       147584    \n",
      "                                                                 \n",
      " batch_normalization_5 (Batc  (None, 56, 56, 128)      512       \n",
      " hNormalization)                                                 \n",
      "                                                                 \n",
      " max_pooling2d_2 (MaxPooling  (None, 28, 28, 128)      0         \n",
      " 2D)                                                             \n",
      "                                                                 \n",
      " flatten (Flatten)           (None, 100352)            0         \n",
      "                                                                 \n",
      " dropout (Dropout)           (None, 100352)            0         \n",
      "                                                                 \n",
      " dense (Dense)               (None, 512)               51380736  \n",
      "                                                                 \n",
      " dropout_1 (Dropout)         (None, 512)               0         \n",
      "                                                                 \n",
      " dense_1 (Dense)             (None, 2)                 1026      \n",
      "                                                                 \n",
      "=================================================================\n",
      "Total params: 51,669,986\n",
      "Trainable params: 51,669,090\n",
      "Non-trainable params: 896\n",
      "_________________________________________________________________\n",
      "None\n"
     ]
    }
   ],
   "source": [
    "model = build_model_A()\n",
    "print(model.summary())"
   ]
  },
  {
   "cell_type": "code",
   "execution_count": 10,
   "id": "d75bb123",
   "metadata": {},
   "outputs": [
    {
     "name": "stdout",
     "output_type": "stream",
     "text": [
      "Epoch 1/20\n",
      "74/74 [==============================] - 38s 464ms/step - loss: 2.4988 - accuracy: 0.7285 - val_loss: 28.1407 - val_accuracy: 0.3333\n",
      "Epoch 2/20\n",
      "74/74 [==============================] - 34s 465ms/step - loss: 0.3560 - accuracy: 0.8438 - val_loss: 25.5515 - val_accuracy: 0.3348\n",
      "Epoch 3/20\n",
      "74/74 [==============================] - 38s 514ms/step - loss: 0.2792 - accuracy: 0.8753 - val_loss: 4.3747 - val_accuracy: 0.3348\n",
      "Epoch 4/20\n",
      "74/74 [==============================] - 59s 794ms/step - loss: 0.1973 - accuracy: 0.9179 - val_loss: 3.1106 - val_accuracy: 0.5298\n",
      "Epoch 5/20\n",
      "74/74 [==============================] - 55s 744ms/step - loss: 0.1838 - accuracy: 0.9209 - val_loss: 2.2018 - val_accuracy: 0.5938\n",
      "Epoch 6/20\n",
      "74/74 [==============================] - 47s 628ms/step - loss: 0.1446 - accuracy: 0.9438 - val_loss: 2.7259 - val_accuracy: 0.6652\n",
      "Epoch 7/20\n",
      "74/74 [==============================] - 47s 629ms/step - loss: 0.1217 - accuracy: 0.9506 - val_loss: 1.4255 - val_accuracy: 0.7009\n",
      "Epoch 8/20\n",
      "74/74 [==============================] - 50s 682ms/step - loss: 0.0931 - accuracy: 0.9630 - val_loss: 0.2537 - val_accuracy: 0.9003\n",
      "Epoch 9/20\n",
      "74/74 [==============================] - 48s 647ms/step - loss: 0.0656 - accuracy: 0.9753 - val_loss: 0.2272 - val_accuracy: 0.9092\n",
      "Epoch 10/20\n",
      "74/74 [==============================] - 47s 641ms/step - loss: 0.0563 - accuracy: 0.9757 - val_loss: 0.1401 - val_accuracy: 0.9286\n",
      "Epoch 11/20\n",
      "74/74 [==============================] - 48s 644ms/step - loss: 0.0429 - accuracy: 0.9860 - val_loss: 0.0666 - val_accuracy: 0.9821\n",
      "Epoch 12/20\n",
      "74/74 [==============================] - 48s 649ms/step - loss: 0.0493 - accuracy: 0.9834 - val_loss: 0.0718 - val_accuracy: 0.9613\n",
      "Epoch 13/20\n",
      "74/74 [==============================] - 50s 671ms/step - loss: 0.0423 - accuracy: 0.9826 - val_loss: 0.0456 - val_accuracy: 0.9792\n",
      "Epoch 14/20\n",
      "74/74 [==============================] - 48s 645ms/step - loss: 0.0268 - accuracy: 0.9902 - val_loss: 0.0262 - val_accuracy: 0.9940\n",
      "Epoch 15/20\n",
      "74/74 [==============================] - 50s 670ms/step - loss: 0.0330 - accuracy: 0.9877 - val_loss: 0.1747 - val_accuracy: 0.9345\n",
      "Epoch 16/20\n",
      "74/74 [==============================] - 51s 692ms/step - loss: 0.0510 - accuracy: 0.9817 - val_loss: 0.0805 - val_accuracy: 0.9658\n",
      "Epoch 17/20\n",
      "74/74 [==============================] - 51s 694ms/step - loss: 0.0571 - accuracy: 0.9762 - val_loss: 0.4258 - val_accuracy: 0.8869\n",
      "Epoch 18/20\n",
      "74/74 [==============================] - 50s 676ms/step - loss: 0.0875 - accuracy: 0.9672 - val_loss: 0.1121 - val_accuracy: 0.9524\n",
      "Epoch 19/20\n",
      "74/74 [==============================] - 49s 665ms/step - loss: 0.0350 - accuracy: 0.9860 - val_loss: 0.0552 - val_accuracy: 0.9836\n",
      "Epoch 19: early stopping\n"
     ]
    },
    {
     "data": {
      "text/plain": [
       "<keras.callbacks.History at 0x2c195e99eb0>"
      ]
     },
     "execution_count": 10,
     "metadata": {},
     "output_type": "execute_result"
    }
   ],
   "source": [
    "# training model\n",
    "model.fit(ds_train, epochs=20, steps_per_epoch=math.ceil(num_train/32), \n",
    "          verbose=1, callbacks=callbacks, validation_data=ds_val,\n",
    "         validation_steps=math.ceil(num_val/32))"
   ]
  },
  {
   "cell_type": "code",
   "execution_count": 11,
   "id": "1ba71afa",
   "metadata": {},
   "outputs": [
    {
     "name": "stdout",
     "output_type": "stream",
     "text": [
      "19/19 [==============================] - 28s 773ms/step - loss: 0.0727 - accuracy: 0.9711\n"
     ]
    },
    {
     "data": {
      "text/plain": [
       "[0.07271134853363037, 0.9710638523101807]"
      ]
     },
     "execution_count": 11,
     "metadata": {},
     "output_type": "execute_result"
    }
   ],
   "source": [
    "# evaluating model\n",
    "model.evaluate(ds_test)"
   ]
  },
  {
   "cell_type": "code",
   "execution_count": 13,
   "id": "544bccfc",
   "metadata": {},
   "outputs": [],
   "source": [
    "# saving model\n",
    "model.save('Osteoarthritis_Classifier.model', save_format='h5')"
   ]
  },
  {
   "cell_type": "code",
   "execution_count": null,
   "id": "8a89466f",
   "metadata": {},
   "outputs": [],
   "source": []
  }
 ],
 "metadata": {
  "kernelspec": {
   "display_name": "Python 3",
   "language": "python",
   "name": "python3"
  },
  "language_info": {
   "codemirror_mode": {
    "name": "ipython",
    "version": 3
   },
   "file_extension": ".py",
   "mimetype": "text/x-python",
   "name": "python",
   "nbconvert_exporter": "python",
   "pygments_lexer": "ipython3",
   "version": "3.8.8"
  }
 },
 "nbformat": 4,
 "nbformat_minor": 5
}
